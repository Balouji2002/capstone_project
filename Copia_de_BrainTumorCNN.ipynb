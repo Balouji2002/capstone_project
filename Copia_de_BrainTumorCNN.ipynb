{
  "nbformat": 4,
  "nbformat_minor": 0,
  "metadata": {
    "colab": {
      "provenance": [],
      "machine_shape": "hm",
      "gpuType": "V100",
      "mount_file_id": "1-yyv-tNyEpfsDt7Lsi8tAt7OaG0QGDKs",
      "authorship_tag": "ABX9TyP/64/b/j1wozDyY3qg6Cvv",
      "include_colab_link": true
    },
    "kernelspec": {
      "name": "python3",
      "display_name": "Python 3"
    },
    "language_info": {
      "name": "python"
    }
  },
  "cells": [
    {
      "cell_type": "markdown",
      "metadata": {
        "id": "view-in-github",
        "colab_type": "text"
      },
      "source": [
        "<a href=\"https://colab.research.google.com/github/danifeerrer/capstone_project/blob/cnn/Copia_de_BrainTumorCNN.ipynb\" target=\"_parent\"><img src=\"https://colab.research.google.com/assets/colab-badge.svg\" alt=\"Open In Colab\"/></a>"
      ]
    },
    {
      "cell_type": "markdown",
      "source": [
        "**1. Import all the necessary libraries for the project**"
      ],
      "metadata": {
        "id": "5ubuUQJxE3Wx"
      }
    },
    {
      "cell_type": "code",
      "execution_count": 152,
      "metadata": {
        "id": "AxO_1Vns2cg8"
      },
      "outputs": [],
      "source": [
        "import matplotlib.pyplot as plt\n",
        "import numpy as np\n",
        "import pandas as pd\n",
        "import cv2\n",
        "import tensorflow as tf\n",
        "from tensorflow.keras.preprocessing.image import ImageDataGenerator\n",
        "from tqdm import tqdm\n",
        "import ipywidgets as widgets\n",
        "import os\n",
        "from PIL import Image\n",
        "from tensorflow.keras.preprocessing.image import load_img, img_to_array\n",
        "from tensorflow.keras.preprocessing.image import ImageDataGenerator\n",
        "from sklearn.utils import shuffle\n",
        "\n"
      ]
    },
    {
      "cell_type": "markdown",
      "source": [
        "This function will create more images, similar to the ones we already have. This is done to improve the effectiveness of the CNN"
      ],
      "metadata": {
        "id": "dtE6gH0iGscb"
      }
    },
    {
      "cell_type": "code",
      "source": [
        "labels = ['glioma_tumor', 'no_tumor', 'meningioma_tumor', 'pituitary_tumor']\n",
        "target_size = (150, 150)\n",
        "\n",
        "X_data = []\n",
        "y_data = []\n",
        "X_data_folder = []\n",
        "y_data_folder = []\n",
        "\n",
        "\n",
        "train_imgs_per_folder = 900\n",
        "test_imgs_per_folder = 150\n",
        "number_files = 0\n",
        "\n",
        "def fillDirectory(number_files, X_data_folder, y_data_folder, total_images):\n",
        "    print(\"Number of files in folder:\", number_files)\n",
        "    print(\"Data images required per folder:\", total_images)\n",
        "    print(\"Folder length:\", len(X_data_folder))\n",
        "\n",
        "    augmented_X_train = []\n",
        "    augmented_y_train = []\n",
        "\n",
        "    # Generate augmented images for a batch\n",
        "    batch_size = total_images - number_files\n",
        "    print(\"Batch size:\", batch_size)\n",
        "\n",
        "    datagen_subfolder = ImageDataGenerator(\n",
        "        rotation_range=20,\n",
        "        width_shift_range=0.2,\n",
        "        height_shift_range=0.2,\n",
        "        shear_range=0.2,\n",
        "        zoom_range=0.2,\n",
        "        horizontal_flip=True,\n",
        "        fill_mode='nearest',\n",
        "\n",
        "    )\n",
        "\n",
        "    # Generate augmented images for this subfolder\n",
        "    for _ in range(batch_size):\n",
        "        # Randomly select an image from the subfolder\n",
        "        random_index = np.random.randint(0, len(X_data_folder))\n",
        "        image = X_data_folder[random_index]\n",
        "\n",
        "\n",
        "\n",
        "        # Apply data augmentation to the selected image\n",
        "        augmented_image = datagen_subfolder.random_transform(image)\n",
        "\n",
        "        augmented_image = cv2.resize(augmented_image, target_size, interpolation=cv2.INTER_AREA)\n",
        "        # Append the augmented image and its label\n",
        "        augmented_X_train.append(augmented_image)\n",
        "        augmented_y_train.append(y_data_folder[random_index])\n",
        "\n",
        "    augmented_X_train = np.array(augmented_X_train)\n",
        "    augmented_y_train = np.array(augmented_y_train)\n",
        "    X_data_folder.extend(augmented_X_train)\n",
        "    y_data_folder.extend(augmented_y_train)"
      ],
      "metadata": {
        "id": "c7NSjjoGG7Le"
      },
      "execution_count": 153,
      "outputs": []
    },
    {
      "cell_type": "markdown",
      "source": [
        "We start looking at the data, and transforming all images to a same\n",
        "size of 150 pixels, and appending all the sized images to the new X_train list. Then, we convert the list into a np array.\n"
      ],
      "metadata": {
        "id": "uSlcy_6tFGTU"
      }
    },
    {
      "cell_type": "code",
      "source": [
        "\n",
        "# Loop through both training and testing directories\n",
        "for directory in ['Training', 'Testing']:\n",
        "    for label in labels:\n",
        "        folderPath = os.path.join('./drive/MyDrive', directory, label)\n",
        "        number_files = 0  # Reset number_files for each subfolder\n",
        "\n",
        "        # Iterate through image files in the folder\n",
        "        for filename in tqdm(os.listdir(folderPath)):\n",
        "            img_path = os.path.join(folderPath, filename)\n",
        "            number_files += 1\n",
        "\n",
        "            # Read the image using OpenCV\n",
        "            image = cv2.imread(img_path)\n",
        "\n",
        "            # Resize the image to the target size\n",
        "            image = cv2.resize(image, target_size, interpolation=cv2.INTER_AREA)\n",
        "\n",
        "            # Append the image and label to the lists\n",
        "            X_data_folder.append(image)\n",
        "            y_data_folder.append(label)\n",
        "\n",
        "        # Check if additional images need to be generated for this subfolder\n",
        "        if directory == \"Training\" and number_files < train_imgs_per_folder:\n",
        "            fillDirectory(number_files, X_data_folder, y_data_folder, train_imgs_per_folder)\n",
        "\n",
        "        elif directory == \"Testing\" and number_files < test_imgs_per_folder:\n",
        "            fillDirectory(number_files, X_data_folder, y_data_folder, test_imgs_per_folder)\n",
        "\n",
        "        X_data.extend(X_data_folder)\n",
        "        y_data.extend(y_data_folder)\n",
        "        X_data_folder = []\n",
        "        y_data_folder = []\n",
        "\n",
        "\n",
        "# Convert the lists to NumPy arrays\n",
        "X_data = np.array(X_data)\n",
        "y_data = np.array(y_data)\n"
      ],
      "metadata": {
        "colab": {
          "base_uri": "https://localhost:8080/"
        },
        "id": "zjZC5G_mHPzL",
        "outputId": "6c09f1de-d057-42d2-acdc-42df528df081"
      },
      "execution_count": 154,
      "outputs": [
        {
          "output_type": "stream",
          "name": "stderr",
          "text": [
            "100%|██████████| 826/826 [00:06<00:00, 131.26it/s]\n"
          ]
        },
        {
          "output_type": "stream",
          "name": "stdout",
          "text": [
            "Number of files in folder: 826\n",
            "Data images required per folder: 900\n",
            "Folder length: 826\n",
            "Batch size: 74\n"
          ]
        },
        {
          "output_type": "stream",
          "name": "stderr",
          "text": [
            "100%|██████████| 395/395 [00:02<00:00, 178.44it/s]\n"
          ]
        },
        {
          "output_type": "stream",
          "name": "stdout",
          "text": [
            "Number of files in folder: 395\n",
            "Data images required per folder: 900\n",
            "Folder length: 395\n",
            "Batch size: 505\n"
          ]
        },
        {
          "output_type": "stream",
          "name": "stderr",
          "text": [
            "100%|██████████| 822/822 [00:05<00:00, 141.18it/s]\n"
          ]
        },
        {
          "output_type": "stream",
          "name": "stdout",
          "text": [
            "Number of files in folder: 822\n",
            "Data images required per folder: 900\n",
            "Folder length: 822\n",
            "Batch size: 78\n"
          ]
        },
        {
          "output_type": "stream",
          "name": "stderr",
          "text": [
            "100%|██████████| 827/827 [00:06<00:00, 128.24it/s]\n"
          ]
        },
        {
          "output_type": "stream",
          "name": "stdout",
          "text": [
            "Number of files in folder: 827\n",
            "Data images required per folder: 900\n",
            "Folder length: 827\n",
            "Batch size: 73\n"
          ]
        },
        {
          "output_type": "stream",
          "name": "stderr",
          "text": [
            "100%|██████████| 100/100 [00:00<00:00, 170.95it/s]\n"
          ]
        },
        {
          "output_type": "stream",
          "name": "stdout",
          "text": [
            "Number of files in folder: 100\n",
            "Data images required per folder: 150\n",
            "Folder length: 100\n",
            "Batch size: 50\n"
          ]
        },
        {
          "output_type": "stream",
          "name": "stderr",
          "text": [
            "100%|██████████| 105/105 [00:00<00:00, 282.41it/s]\n"
          ]
        },
        {
          "output_type": "stream",
          "name": "stdout",
          "text": [
            "Number of files in folder: 105\n",
            "Data images required per folder: 150\n",
            "Folder length: 105\n",
            "Batch size: 45\n"
          ]
        },
        {
          "output_type": "stream",
          "name": "stderr",
          "text": [
            "100%|██████████| 115/115 [00:00<00:00, 206.01it/s]\n"
          ]
        },
        {
          "output_type": "stream",
          "name": "stdout",
          "text": [
            "Number of files in folder: 115\n",
            "Data images required per folder: 150\n",
            "Folder length: 115\n",
            "Batch size: 35\n"
          ]
        },
        {
          "output_type": "stream",
          "name": "stderr",
          "text": [
            "100%|██████████| 74/74 [00:00<00:00, 93.06it/s]\n"
          ]
        },
        {
          "output_type": "stream",
          "name": "stdout",
          "text": [
            "Number of files in folder: 74\n",
            "Data images required per folder: 150\n",
            "Folder length: 74\n",
            "Batch size: 76\n"
          ]
        }
      ]
    },
    {
      "cell_type": "markdown",
      "source": [
        "Let's take a look at the new created Brain MRI images, with the help of the matplot library."
      ],
      "metadata": {
        "id": "gdvRXPtlv-KH"
      }
    },
    {
      "cell_type": "code",
      "source": [
        "import matplotlib.pyplot as plt\n",
        "\n",
        "# Access the image at index 865\n",
        "image = X_data[897]\n",
        "\n",
        "# Display the image using Matplotlib\n",
        "plt.imshow(image)\n",
        "plt.axis('off')  # Turn off the axis labels and ticks\n",
        "plt.show()\n"
      ],
      "metadata": {
        "colab": {
          "base_uri": "https://localhost:8080/",
          "height": 406
        },
        "id": "23DeDrNSHUuT",
        "outputId": "ed3408d6-7620-4960-880a-358000082701"
      },
      "execution_count": 155,
      "outputs": [
        {
          "output_type": "display_data",
          "data": {
            "text/plain": [
              "<Figure size 640x480 with 1 Axes>"
            ],
            "image/png": "[encoded data removed]"
          },
          "metadata": {}
        }
      ]
    },
    {
      "cell_type": "markdown",
      "source": [
        "Now we will split the data into training and testing sections using the train_test_split function"
      ],
      "metadata": {
        "id": "WmTshVkr5FpI"
      }
    },
    {
      "cell_type": "code",
      "source": [
        "from sklearn.model_selection import train_test_split\n",
        "from sklearn.preprocessing import LabelEncoder\n",
        "\n",
        "\n",
        "y_data[y_data != \"no_tumor\"] = \"tumor\"\n",
        "\n",
        "\n",
        "X_train, X_test, y_train, y_test = train_test_split(X_data, y_data, test_size=0.2, random_state=42)\n",
        "\n",
        "# Create a label encoder\n",
        "label_encoder = LabelEncoder()\n",
        "\n",
        "# Fit and transform the labels\n",
        "y_train = label_encoder.fit_transform(y_train)\n",
        "y_test = label_encoder.transform(y_test)\n",
        "\n"
      ],
      "metadata": {
        "id": "Fggq3r9u5MYC"
      },
      "execution_count": 156,
      "outputs": []
    },
    {
      "cell_type": "markdown",
      "source": [
        "Let's import the necessary libraries to declare the CNN model and define it."
      ],
      "metadata": {
        "id": "s3VO5rXkfmRF"
      }
    },
    {
      "cell_type": "code",
      "source": [
        "import tensorflow as tf\n",
        "from tensorflow import keras\n",
        "from tensorflow.keras import layers\n",
        "\n",
        "# Define the CNN model\n",
        "model = keras.Sequential([\n",
        "    # Convolutional layer 1\n",
        "    layers.Conv2D(32, (3, 3), activation='relu', input_shape=(150, 150, 3)),\n",
        "    layers.MaxPooling2D((2, 2)),\n",
        "\n",
        "    # Convolutional layer 2\n",
        "    layers.Conv2D(64, (3, 3), activation='relu'),\n",
        "    layers.MaxPooling2D((2, 2)),\n",
        "\n",
        "    # Flatten layer\n",
        "    layers.Flatten(),\n",
        "\n",
        "    # Dense (fully connected) layers\n",
        "    layers.Dense(128, activation='relu'),\n",
        "    layers.Dense(2, activation='softmax')  # Output layer with 2 classes (tumor or no tumor)\n",
        "])"
      ],
      "metadata": {
        "id": "X5CsaV6Rf_fd"
      },
      "execution_count": 157,
      "outputs": []
    },
    {
      "cell_type": "markdown",
      "source": [
        "Now it's time to compile the model, train it and evaluate its accuracy."
      ],
      "metadata": {
        "id": "g4KS1l2cgK2c"
      }
    },
    {
      "cell_type": "code",
      "source": [
        "# Compile the model\n",
        "model.compile(optimizer='adam', loss='sparse_categorical_crossentropy', metrics=['accuracy'])\n",
        "\n",
        "# Train the model\n",
        "history = model.fit(X_train, y_train, epochs=5, validation_data=(X_test, y_test))\n",
        "\n",
        "# Evaluate the model on the test set\n",
        "test_loss, test_accuracy = model.evaluate(X_test, y_test)\n",
        "print(f'Test accuracy: {test_accuracy}')"
      ],
      "metadata": {
        "colab": {
          "base_uri": "https://localhost:8080/"
        },
        "id": "GrIsHRBZ6xLi",
        "outputId": "aa509176-e82d-43ba-b740-24b1bee50e74"
      },
      "execution_count": null,
      "outputs": [
        {
          "output_type": "stream",
          "name": "stdout",
          "text": [
            "Epoch 1/5\n",
            "105/105 [==============================] - 37s 349ms/step - loss: 32.6283 - accuracy: 0.7646 - val_loss: 0.3689 - val_accuracy: 0.8536\n",
            "Epoch 2/5\n",
            "105/105 [==============================] - 34s 326ms/step - loss: 0.2381 - accuracy: 0.8958 - val_loss: 0.3586 - val_accuracy: 0.8583\n",
            "Epoch 3/5\n",
            "105/105 [==============================] - 35s 334ms/step - loss: 0.1153 - accuracy: 0.9571 - val_loss: 0.2935 - val_accuracy: 0.8988\n",
            "Epoch 4/5\n",
            " 71/105 [===================>..........] - ETA: 10s - loss: 0.0494 - accuracy: 0.9872"
          ]
        }
      ]
    }
  ]
}